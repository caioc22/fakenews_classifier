{
 "cells": [
  {
   "cell_type": "markdown",
   "id": "ea943c31-93fb-4264-af3f-bb5abc916ddf",
   "metadata": {},
   "source": [
    "# Fake News\n",
    "\n",
    "Artigo base: https://arxiv.org/pdf/2309.11052.pdf"
   ]
  },
  {
   "cell_type": "code",
   "execution_count": 1,
   "id": "d722e355-915d-4073-b4f4-78363510a30b",
   "metadata": {},
   "outputs": [],
   "source": [
    "# dependências\n",
    "# !pip install wordcloud nltk pandas scikit-learn tensorflow"
   ]
  },
  {
   "cell_type": "raw",
   "id": "cae55d36-9eaa-4988-982d-31687b7d0c1a",
   "metadata": {},
   "source": [
    "!git clone https://github.com/roneysco/Fake.br-Corpus.git"
   ]
  },
  {
   "cell_type": "markdown",
   "id": "1e46887b-780d-4173-a0e2-1354940c9ee1",
   "metadata": {},
   "source": [
    "## Pre-processamento"
   ]
  },
  {
   "cell_type": "code",
   "execution_count": 1,
   "id": "779f3084-6dfb-41d5-a85f-21d31419481b",
   "metadata": {},
   "outputs": [],
   "source": [
    "import os, nltk, re, unicodedata\n",
    "from tqdm import tqdm\n",
    "import pandas as pd, numpy as np "
   ]
  },
  {
   "cell_type": "code",
   "execution_count": null,
   "id": "970fed3b-d714-4514-9bc8-2612233b646b",
   "metadata": {},
   "outputs": [],
   "source": [
    "nltk.download('rslp')"
   ]
  },
  {
   "cell_type": "code",
   "execution_count": 311,
   "id": "0b8659d4-303c-4a7c-88b8-5ac3dce4be6b",
   "metadata": {
    "scrolled": true
   },
   "outputs": [
    {
     "name": "stderr",
     "output_type": "stream",
     "text": [
      "  0%|          | 0/3600 [00:00<?, ?it/s]/tmp/ipykernel_3352/2112486062.py:60: PerformanceWarning: DataFrame is highly fragmented.  This is usually the result of calling `frame.insert` many times, which has poor performance.  Consider joining all columns at once using pd.concat(axis=1) instead. To get a de-fragmented frame, use `newframe = frame.copy()`\n",
      "  corpus[i]=[stems,label]\n",
      "100%|██████████| 3600/3600 [00:02<00:00, 1759.82it/s]\n",
      "100%|██████████| 3600/3600 [00:06<00:00, 599.37it/s]\n"
     ]
    },
    {
     "data": {
      "text/plain": [
       "label\n",
       "1    3600\n",
       "0    3600\n",
       "Name: count, dtype: int64"
      ]
     },
     "execution_count": 311,
     "metadata": {},
     "output_type": "execute_result"
    }
   ],
   "source": [
    "def clean_text(string):\n",
    "    # remover diacriticos sem descartar caracteres\n",
    "    string = unicodedata.normalize('NFD', string)\n",
    "    string = string.encode('ascii', 'ignore')\n",
    "    string = string.decode(\"utf-8\")\n",
    "    \n",
    "    # remover caracteres especiais\n",
    "    string = re.sub(\"\\W+\",\" \", string)\n",
    "\n",
    "    # remover numeros\n",
    "    string = re.sub(\"[\\d\\s]+\",\" \", string)\n",
    "\n",
    "    # tudo minusculo\n",
    "    string = string.replace(\"  \",\" \").lower()\n",
    "    \n",
    "    return string\n",
    "\n",
    "def build_corpus(path):\n",
    "    \"\"\"Carregar textos em dataframe\"\"\"\n",
    "    stemmer = nltk.stem.RSLPStemmer()\n",
    "    stop_words = nltk.corpus.stopwords.words(\"portuguese\")\n",
    "\n",
    "    smaller = 1e5\n",
    "    \n",
    "    corpus = pd.DataFrame()\n",
    "        \n",
    "    i=0\n",
    "    for sub, label in [(\"fake/\",1),(\"true/\",0)]:\n",
    "        sub_path = path+sub\n",
    "        files = os.listdir(sub_path)\n",
    "        for fname in tqdm( files, total=len(files) ):\n",
    "            if fname[-3:]!='txt': continue\n",
    "                \n",
    "            with open(sub_path+fname,\"r\") as f:\n",
    "                text = f.read()\n",
    "        \n",
    "            # limpar texto\n",
    "            cleaned_text = clean_text(text)\n",
    "            # remover stopwords\n",
    "            no_stop_words = [w for w in cleaned_text.split() if not w in stop_words]\n",
    "            no_stop_words = \" \".join(no_stop_words)\n",
    "            # stemming\n",
    "            stems = stemmer.stem(no_stop_words)\n",
    "            # print(stems)\n",
    "\n",
    "            # normalizar\n",
    "            if label==0 and len(stems.split())<smaller:\n",
    "                smaller=len(stems.split())\n",
    "\n",
    "            # incluir metadados (opcional)\n",
    "            # if meta:\n",
    "            #     meta_folder = path+sub[:-1]+\"-meta-information/\"\n",
    "            #     fname_meta = fname[0]+\"-meta.txt\"\n",
    "                \n",
    "            #     with open(meta_folder+fname_meta,\"r\") as f:\n",
    "            #         metadata = f.read()\n",
    "                \n",
    "            #     corpus[i]=[stems]+metadata.split(\"\\n\")+[label]\n",
    "            # else:\n",
    "            corpus[i]=[stems,label]\n",
    "            \n",
    "            i+=1\n",
    "            # print(\"\\n\")\n",
    "            # if i>2:\n",
    "            #     break\n",
    "\n",
    "    cols = [\"text\",\"label\"]\n",
    "    corpus = corpus.T\n",
    "    corpus.columns = cols    \n",
    "        \n",
    "    return corpus\n",
    "\n",
    "df = build_corpus(\"Fake.br-Corpus/full_texts/\")\n",
    "df[\"label\"].value_counts()"
   ]
  },
  {
   "cell_type": "markdown",
   "id": "6b0c6f81-c80f-4e5e-ac0c-6862756c977a",
   "metadata": {},
   "source": [
    "## Vetorização e WordCloud"
   ]
  },
  {
   "cell_type": "code",
   "execution_count": 8,
   "id": "58f6badf-f526-4989-94db-97c22ba3ea3e",
   "metadata": {},
   "outputs": [],
   "source": [
    "# !pip install --upgrade pip\n",
    "# !pip install --upgrade Pillow\n",
    "# !pip install --upgrade wordcloud"
   ]
  },
  {
   "cell_type": "code",
   "execution_count": 252,
   "id": "8f2a9aa4-dda7-4b66-be45-eeeb928fab45",
   "metadata": {},
   "outputs": [],
   "source": [
    "from wordcloud import WordCloud\n",
    "import matplotlib.pyplot as plt\n",
    "import random\n",
    "from PIL import Image\n",
    "\n",
    "# funcao fornecida pelo professor\n",
    "# https://github.com/N-CPUninter/NLP/blob/main/funcoes_auxiliares.py#L36\n",
    "def gerar_nuvem_palavras(arquivo_mascara=\"cloud_mask.png\",\n",
    "                         dicionario_tokens_e_frequencia={'exemplo':1,\n",
    "                                     'exemplo bigramas':2,\n",
    "                                     'exemplo de trigrama':1,\n",
    "                                     'ALTERAR':3},\n",
    "                        path=\"imgs/\"):\n",
    "    \"\"\"\n",
    "    Gera uma nuvem de palavras com base em seu dicionário de palavras ou ngramas\n",
    "    como a chave e a frequência de aparição do token como valor (inteiro).\n",
    "\n",
    "    Parâmetros:\n",
    "        dicionario_tokens_e_frequencia (dict): O dicionário de tokens e suas \n",
    "                                               respectivas frequências de \n",
    "                                               aparição nos textos.\n",
    "        arquivo_mascara (str): O nome do arquivo da imagem de máscara. Pde ser:\n",
    "                                            cloud_mask.png\n",
    "                                            mapa_brasil_mask.png\n",
    "                                            thumbs_up_mask.png        \n",
    "                                            thumbs_down_mask.png\n",
    "                                            <Outro arquivo de sua escolha>\n",
    "\n",
    "    Exemplos de Uso:\n",
    "        1. Para gerar uma nuvem de palavras na máscara mapa do brasil:\n",
    "            gerar_nuvem_palavras(dicionario_tokens_e_frequencia=word_dict,\n",
    "                                 arquivo_mascara='mapa_brasil_mask.png')\n",
    "    \"\"\"\n",
    "\n",
    "    # Seletor de função de cor\n",
    "    def color_function(mask):\n",
    "        if mask == \"mapa_brasil_mask.png\":\n",
    "            def color_func(word, font_size, position, orientation, random_state=None,**kwargs):\n",
    "                return \"hsl(190, 40%%, %d%%)\" % random.randint(30, 60) #sky\n",
    "            color_cont = (219, 236, 240)\n",
    "        elif mask == \"thumbs_down_mask.png\":\n",
    "            def color_func(word, font_size, position, orientation, random_state=None,**kwargs):\n",
    "                return \"hsl(0, 80%%, %d%%)\" % random.randint(30, 60) #fake\n",
    "            color_cont = (250, 209, 209)\n",
    "        elif mask == \"thumbs_up_mask.png\":\n",
    "            def color_func(word, font_size, position, orientation, random_state=None,**kwargs):\n",
    "                return \"hsl(130, 40%%, %d%%)\" % random.randint(30, 60) #real\n",
    "            color_cont = (219, 240, 223)\n",
    "        else:\n",
    "            def color_func(word, font_size, position, orientation, random_state=None,**kwargs):\n",
    "                return \"hsl(0, 0%%, %d%%)\" % random.randint(60, 100) #grey\n",
    "            color_cont = (219, 236, 240)\n",
    "        return color_func, color_cont\n",
    "\n",
    "    color_function, color_cont = color_function(arquivo_mascara)\n",
    "\n",
    "    # full_path = os.path.join(\"data\", \"img\", arquivo_mascara)\n",
    "    full_path = path+arquivo_mascara\n",
    "    imagem_mascara = np.array(Image.open(full_path))\n",
    "\n",
    "    print(f\"   * Um total de {len(dicionario_tokens_e_frequencia)} tokens foram \"+\n",
    "        \"computadas a partir do conjunto de dados.\\n\")\n",
    "    nuvem_palavras = WordCloud(\n",
    "                            width=1080,\n",
    "                            height=1080,\n",
    "                            max_font_size=110,\n",
    "                            background_color=\"white\",\n",
    "                            collocations=False,\n",
    "                            mask=imagem_mascara,\n",
    "                            contour_width=3,\n",
    "                            contour_color = color_cont\n",
    "                            ).generate_from_frequencies(dicionario_tokens_e_frequencia)\n",
    "    nuvem_palavras.recolor(color_func=color_function, random_state=3)\n",
    "\n",
    "    plt.figure(figsize=(12, 10))\n",
    "    plt.imshow(nuvem_palavras, interpolation='bilinear')\n",
    "    plt.axis('off')\n",
    "    plt.show()\n",
    "\n",
    "    return nuvem_palavras, len(dicionario_tokens_e_frequencia)"
   ]
  },
  {
   "cell_type": "code",
   "execution_count": 290,
   "id": "70732167-3c93-44b1-939e-94698c9bc4d0",
   "metadata": {},
   "outputs": [],
   "source": [
    "def get_ngrams(texts,n=2):\n",
    "    n_grams=[]\n",
    "    for text in texts:\n",
    "        n_gram = ngrams(text.split(),n)\n",
    "        n_grams.append( list(n_gram) )\n",
    "    return n_grams\n",
    "\n",
    "def criar_nuvem(texts,img,n=2):\n",
    "    n_grams = get_ngrams(texts,n=2)\n",
    "    \n",
    "    vectorizer = CountVectorizer(ngram_range=(1, 3))\n",
    "    # space = [a+' '+ab for a, b in n_grams]\n",
    "    space = [a[0][0]+' '+a[0][1] for a in n_grams if len(a)]\n",
    "    bag_of_words = vectorizer.fit_transform(space)\n",
    "    sum_words = bag_of_words.sum(axis=0)\n",
    "    words_freq = [(word, sum_words[0, idx]) for word, idx in vectorizer.vocabulary_.items()]\n",
    "    words_freq =sorted(words_freq, key = lambda x: x[1], reverse=True)\n",
    "    words_dict = dict(words_freq)\n",
    "    # print(words_dict)\n",
    "    gerar_nuvem_palavras(\n",
    "        dicionario_tokens_e_frequencia=words_dict,\n",
    "        arquivo_mascara=img\n",
    "    )"
   ]
  },
  {
   "cell_type": "code",
   "execution_count": 227,
   "id": "b9419101-eca0-4580-9736-1e85c91cad98",
   "metadata": {
    "scrolled": true
   },
   "outputs": [
    {
     "data": {
      "text/plain": [
       "'Ok'"
      ]
     },
     "execution_count": 227,
     "metadata": {},
     "output_type": "execute_result"
    }
   ],
   "source": [
    "from nltk import ngrams\n",
    "from sklearn.feature_extraction.text import CountVectorizer, TfidfVectorizer\n",
    "from sklearn.model_selection import train_test_split\n",
    "from collections import Counter\n",
    "\n",
    "def vectorize_texts(df, n=2, word_clouds=False, truncate=100):\n",
    "    vectorizer = TfidfVectorizer(use_idf=True, ngram_range=(1,3))\n",
    "    \n",
    "    X = df[\"text\"]\n",
    "    y = df[\"label\"]\n",
    "    \n",
    "    X_train, X_test, y_train, y_test = train_test_split(X,y,test_size=.25,random_state=1)\n",
    "\n",
    "    # a truncagem é feita aqui apenas no conjunto de treino\n",
    "    if truncate:\n",
    "        def truncate_text(t):\n",
    "            text_list = t.split()[:truncate]\n",
    "            if len(text_list)>=truncate:\n",
    "                return \" \".join(text_list)\n",
    "\n",
    "        # real = X_train.loc[y_train==0]\n",
    "        # fake = X_train.loc[y_train==1]\n",
    "        real = X_train\n",
    "        real=real.apply(truncate_text)\n",
    "        real=real.dropna(how=\"any\",axis=0)\n",
    "        y_train = y_train.loc[real.index]\n",
    "        X_train = real\n",
    "        \n",
    "        # garantindo dados balanceados\n",
    "        # if len(real)>len(fake):\n",
    "        #     real = real.sample(len(fake),replace=False)\n",
    "        # if len(fake)>len(real):\n",
    "        #     fake = fake.sample(len(real),replace=False)\n",
    "        # X_train = pd.concat([fake,real])\n",
    "    \n",
    "    # importante ajustar o vetorizador somente nos dados de treino para entao aplicar no conjunto de teste\n",
    "    X_train = vectorizer.fit_transform(X_train)\n",
    "    X_test = vectorizer.transform(X_test)\n",
    "\n",
    "    print(\"X_train.shape =>\",X_train.shape)\n",
    "    print(\"Proporção classes:\",Counter(y_train),Counter(y_test))\n",
    "\n",
    "    return X_train, X_test, y_train.astype(int).values, y_test.astype(int).values\n",
    "\n",
    "\"Ok\""
   ]
  },
  {
   "cell_type": "markdown",
   "id": "d23a701b-44d2-4618-8066-ff6503b3316d",
   "metadata": {},
   "source": [
    "# Treinamento"
   ]
  },
  {
   "cell_type": "markdown",
   "id": "f297ffc0-c732-43ca-9b18-7bc3cdb31afd",
   "metadata": {},
   "source": [
    "## Sklearn"
   ]
  },
  {
   "cell_type": "code",
   "execution_count": 6,
   "id": "4c21d467-3151-433c-923b-448d03dec61f",
   "metadata": {},
   "outputs": [
    {
     "data": {
      "text/plain": [
       "[PhysicalDevice(name='/physical_device:GPU:0', device_type='GPU')]"
      ]
     },
     "execution_count": 6,
     "metadata": {},
     "output_type": "execute_result"
    }
   ],
   "source": [
    "import tensorflow as tf\n",
    "from tensorflow import keras\n",
    "\n",
    "# GPU está visível\n",
    "tf.config.list_physical_devices('GPU')"
   ]
  },
  {
   "cell_type": "code",
   "execution_count": 14,
   "id": "806ee850-a0a0-4555-924e-c2b0d638da9e",
   "metadata": {},
   "outputs": [],
   "source": [
    "from sklearn.metrics import classification_report, accuracy_score, roc_auc_score\n",
    "\n",
    "from sklearn.model_selection import KFold, cross_val_score\n",
    "from sklearn.ensemble import RandomForestClassifier, ExtraTreesClassifier\n",
    "from sklearn.linear_model import LogisticRegression\n",
    "from sklearn.svm import SVC, LinearSVC\n",
    "\n",
    "from xgboost import XGBClassifier, XGBRFClassifier"
   ]
  },
  {
   "cell_type": "markdown",
   "id": "6c65ad7d-2a94-4c3d-9cb0-d6c8aca13b65",
   "metadata": {},
   "source": [
    "### Vetorização Tf-Idf"
   ]
  },
  {
   "cell_type": "code",
   "execution_count": 9,
   "id": "ac3e6628-75a8-49ff-ab08-63d9306babdf",
   "metadata": {
    "scrolled": true
   },
   "outputs": [
    {
     "name": "stdout",
     "output_type": "stream",
     "text": [
      "------------------------------\n",
      "Modelo: LogisticRegression\n",
      "Accurácia: 0.6983333333333334\n",
      "Roc-auc: 0.6934282725565047\n",
      "              precision    recall  f1-score   support\n",
      "\n",
      "           0       0.64      0.95      0.76       917\n",
      "           1       0.90      0.43      0.59       883\n",
      "\n",
      "    accuracy                           0.70      1800\n",
      "   macro avg       0.77      0.69      0.67      1800\n",
      "weighted avg       0.77      0.70      0.68      1800\n",
      "\n",
      "\n",
      "\n",
      "------------------------------\n",
      "Modelo: RandomForestClassifier\n",
      "Accurácia: 0.6683333333333333\n",
      "Roc-auc: 0.662472783499298\n",
      "              precision    recall  f1-score   support\n",
      "\n",
      "           0       0.61      0.97      0.75       917\n",
      "           1       0.93      0.35      0.51       883\n",
      "\n",
      "    accuracy                           0.67      1800\n",
      "   macro avg       0.77      0.66      0.63      1800\n",
      "weighted avg       0.76      0.67      0.63      1800\n",
      "\n",
      "\n",
      "\n",
      "------------------------------\n",
      "Modelo: ExtraTreesClassifier\n",
      "Accurácia: 0.665\n",
      "Roc-auc: 0.6596841342157881\n",
      "              precision    recall  f1-score   support\n",
      "\n",
      "           0       0.61      0.94      0.74       917\n",
      "           1       0.86      0.38      0.53       883\n",
      "\n",
      "    accuracy                           0.67      1800\n",
      "   macro avg       0.74      0.66      0.63      1800\n",
      "weighted avg       0.73      0.67      0.64      1800\n",
      "\n",
      "\n",
      "\n",
      "------------------------------\n",
      "Modelo: SVC\n",
      "Accurácia: 0.8533333333333334\n",
      "Roc-auc: 0.85292406796993\n",
      "              precision    recall  f1-score   support\n",
      "\n",
      "           0       0.84      0.87      0.86       917\n",
      "           1       0.86      0.83      0.85       883\n",
      "\n",
      "    accuracy                           0.85      1800\n",
      "   macro avg       0.85      0.85      0.85      1800\n",
      "weighted avg       0.85      0.85      0.85      1800\n",
      "\n",
      "\n",
      "\n",
      "Melhor modelo: SVC\n"
     ]
    }
   ],
   "source": [
    "models = [\n",
    "    LogisticRegression(solver=\"lbfgs\"),\n",
    "    RandomForestClassifier(n_jobs=8),\n",
    "    ExtraTreesClassifier(n_jobs=8),\n",
    "    SVC(kernel=\"linear\"),\n",
    "    # LinearSVC(),\n",
    "    # SVC(kernel=\"rbf\"),\n",
    "    # XGBClassifier(device='cuda'),\n",
    "    # XGBRFClassifier(device='cuda'),\n",
    "]\n",
    "\n",
    "# selecionar melhor modelo\n",
    "best_model = None\n",
    "best_score = 0\n",
    "for model in models:\n",
    "    print(\"-\"*30)\n",
    "    print(\"Modelo:\",type(model).__name__)\n",
    "\n",
    "    # scores = cross_val_score(\n",
    "    #     model, X_train, y_train, \n",
    "    #     scoring=make_scorer(accuracy_score, greater_is_better=True), \n",
    "    #     n_jobs=5\n",
    "    # )\n",
    "    # score = scores.max()\n",
    "    \n",
    "    model.fit(X_train, y_train)\n",
    "    y_pred = model.predict(X_test)\n",
    "\n",
    "    acc = accuracy_score(y_test,y_pred)\n",
    "    print(\"Accurácia:\",acc)\n",
    "    print(\"Roc-auc:\",roc_auc_score(y_test,y_pred))\n",
    "    print(classification_report(y_test,y_pred))\n",
    "\n",
    "    if acc>best_score:\n",
    "        best_score=acc\n",
    "        best_model=model\n",
    "    \n",
    "    print(\"\\n\")\n",
    "\n",
    "print(\"#\"*10)\n",
    "print(\"Melhor modelo:\",type(best_model).__name__)\n",
    "print(\"#\"*10)"
   ]
  },
  {
   "cell_type": "markdown",
   "id": "3744d1c3-47d2-410a-b59b-a446b9264fe8",
   "metadata": {},
   "source": [
    "### Otimização hiperparâmetros"
   ]
  },
  {
   "cell_type": "code",
   "execution_count": 26,
   "id": "cf1769d1-2267-4bdd-8d59-16f1d61db5e4",
   "metadata": {},
   "outputs": [
    {
     "data": {
      "text/plain": [
       "{'C': <hyperopt.pyll.base.Apply at 0x7fd95859b580>,\n",
       " 'kernel': <hyperopt.pyll.base.Apply at 0x7fd95877e730>,\n",
       " 'degree': <hyperopt.pyll.base.Apply at 0x7fd95877eac0>,\n",
       " 'probability': <hyperopt.pyll.base.Apply at 0x7fd95877ec10>}"
      ]
     },
     "execution_count": 26,
     "metadata": {},
     "output_type": "execute_result"
    }
   ],
   "source": [
    "import time\n",
    "from hyperopt import hp, fmin, tpe, rand, STATUS_OK, Trials\n",
    "\n",
    "hyperparams = {\n",
    "      'C': np.arange(0.005,1.0,0.01),\n",
    "      'kernel': ['linear', 'poly', 'rbf'],\n",
    "      'degree': [2,3,4],\n",
    "      'probability': [True]\n",
    "}\n",
    "\n",
    "space = {k: hp.choice(k, v) for k, v in hyperparams.items()}\n",
    "space"
   ]
  },
  {
   "cell_type": "code",
   "execution_count": 27,
   "id": "d623db8c-d492-43df-95a0-d15d6975c944",
   "metadata": {
    "scrolled": true
   },
   "outputs": [
    {
     "name": "stdout",
     "output_type": "stream",
     "text": [
      "100%|██████████| 50/50 [07:28<00:00,  8.97s/trial, best loss: 0.13271795482592397]\n",
      "Time elapsed: 448.7196521759033\n",
      "Best params: {'C': 0.5349999999999999, 'degree': 3, 'kernel': 'linear', 'probability': True}\n"
     ]
    }
   ],
   "source": [
    "best_score=1.0\n",
    "\n",
    "def objective(space):\n",
    "    \n",
    "    global best_score, X_train, y_train\n",
    "    # global X_train\n",
    "    # global y_train\n",
    "    model = SVC(**space)   \n",
    "    kfold = KFold(n_splits=5, random_state=1, shuffle=True)\n",
    "    score = 1-cross_val_score(best_model, X_train, y_train, cv=kfold, scoring=\"accuracy\", verbose=False, n_jobs=-1).mean() \n",
    "    # A função objective sempre otimiza para minimizar o \"erro\", por isso negativo, para maximizar a métrica\n",
    "    \n",
    "    if (score < best_score):gerar_nuvem_palavras()\n",
    "        best_score=score\n",
    "    \n",
    "    return score \n",
    "\n",
    "max_evals = 50\n",
    "trials = Trials() # Initialize an empty trials database for further saving/loading ran iteractions\n",
    "\n",
    "start = time.time()\n",
    "\n",
    "best = fmin(objective, \n",
    "            space = space, \n",
    "            algo = tpe.suggest, \n",
    "            max_evals = max_evals,\n",
    "            trials = trials,\n",
    "        )\n",
    "\n",
    "elapsed_time = time.time() - start\n",
    "print(\"Time elapsed:\",elapsed_time)\n",
    "\n",
    "best_params = {k: hyperparams[k][v] for k, v in best.items()}\n",
    "print(\"Best params:\", best_params)"
   ]
  },
  {
   "cell_type": "code",
   "execution_count": 31,
   "id": "b981dc01-0faf-4583-9dd0-88db8e75626f",
   "metadata": {},
   "outputs": [
    {
     "name": "stdout",
     "output_type": "stream",
     "text": [
      "Accurácia: 0.8533333333333334\n",
      "Roc-auc: 0.85292406796993\n",
      "              precision    recall  f1-score   support\n",
      "\n",
      "           0       0.84      0.87      0.86       917\n",
      "           1       0.86      0.83      0.85       883\n",
      "\n",
      "    accuracy                           0.85      1800\n",
      "   macro avg       0.85      0.85      0.85      1800\n",
      "weighted avg       0.85      0.85      0.85      1800\n",
      "\n"
     ]
    }
   ],
   "source": [
    "best_svc = SVC(**best)\n",
    "\n",
    "model.fit(X_train, y_train)\n",
    "y_pred = model.predict(X_test)\n",
    "\n",
    "acc = accuracy_score(y_test,y_pred)\n",
    "print(\"Accurácia:\",acc)\n",
    "print(\"Roc-auc:\",roc_auc_score(y_test,y_pred))\n",
    "print(classification_report(y_test,y_pred))"
   ]
  },
  {
   "cell_type": "markdown",
   "id": "d1ba36a6-3e8b-4e9d-b00d-bf4a68dec3c1",
   "metadata": {},
   "source": [
    "## Keras Embeddings"
   ]
  },
  {
   "cell_type": "code",
   "execution_count": 322,
   "id": "a33850d2-be98-4181-b959-3ef327b062b7",
   "metadata": {},
   "outputs": [
    {
     "name": "stdout",
     "output_type": "stream",
     "text": [
      "Qtd média palavras texto real: 643.1838888888889\n"
     ]
    }
   ],
   "source": [
    "lengths = df.loc[df[\"label\"]==0][\"text\"].apply(lambda text: len(text.split()))\n",
    "print(\"Qtd média palavras texto real:\",lengths.mean() )"
   ]
  },
  {
   "cell_type": "code",
   "execution_count": 325,
   "id": "04684e91-0e6e-44d8-892b-188cabdb9ffc",
   "metadata": {},
   "outputs": [],
   "source": [
    "X_train, X_test, y_train, y_test = train_test_split(df[\"text\"],df[\"label\"].astype(int).values,test_size=.25,random_state=1)"
   ]
  },
  {
   "cell_type": "code",
   "execution_count": 326,
   "id": "3aaa1a0c-d631-418b-95d9-b1cd56fcd342",
   "metadata": {},
   "outputs": [
    {
     "name": "stdout",
     "output_type": "stream",
     "text": [
      "Total palavras usadas para treinamento: 1725440\n",
      "bigramas: 1722757\n",
      "trigramas: 382924\n",
      "\n",
      "\n",
      "Total palavras usadas para treinamento: 298370\n",
      "bigramas: 295653\n",
      "trigramas: 382924\n",
      "\n",
      "\n"
     ]
    }
   ],
   "source": [
    "def get_ngrams(texts,n=2):\n",
    "    n_grams=[]\n",
    "    for text in texts:\n",
    "        n_gram = ngrams(text.split(),n)\n",
    "        n_grams.append( list(n_gram) )\n",
    "    return n_grams\n",
    "\n",
    "for c in 0, 1:\n",
    "    print(\"Total palavras usadas para treinamento:\", X_train[y_train==c].apply(lambda text: len(text.split())).sum())\n",
    "    bigrams = get_ngrams(X_train[y_train==c].tolist(), 2)\n",
    "    print(\"bigramas:\",sum([len(bi) for bi in bigrams]))\n",
    "    trigrams = get_ngrams(X_train[y_train].tolist(), 3)\n",
    "    print(\"trigramas:\",sum([len(tri) for tri in trigrams]))\n",
    "    print(\"\\n\")"
   ]
  },
  {
   "cell_type": "code",
   "execution_count": 203,
   "id": "a4c0c308-a599-4abe-9cb8-1c13cc6bf578",
   "metadata": {},
   "outputs": [
    {
     "name": "stdout",
     "output_type": "stream",
     "text": [
      "Found 74273 unique tokens on train set.\n"
     ]
    }
   ],
   "source": [
    "from tensorflow import keras\n",
    "\n",
    "MAX_NB_WORDS = 50000  # numero maximo de palavras do vocabulario\n",
    "EMBEDDING_DIM = 100 # tamanho do embedding\n",
    "SEQUENCE_LENGTH = 650 # normalizar para tamanho medio das sequencias de texto real\n",
    "\n",
    "# ao tokenizar gera o mesmo efeito da truncagem, adaptada para o embedding layer\n",
    "tokenizer = keras.preprocessing.text.Tokenizer(\n",
    "    num_words=MAX_NB_WORDS, \n",
    "    # filters='!\"#$%&()*+,-./:;<=>?@[\\]^_`{|}~', \n",
    "    # lower=True\n",
    ")\n",
    "tokenizer.fit_on_texts(X_train.values)\n",
    "word_index = tokenizer.word_index\n",
    "print('Found %s unique tokens on train set.' % len(word_index))\n"
   ]
  },
  {
   "cell_type": "code",
   "execution_count": 314,
   "id": "239c6fa2-383d-42eb-8fe5-35e3dfbcb04c",
   "metadata": {},
   "outputs": [
    {
     "data": {
      "text/plain": [
       "(5400, 650)"
      ]
     },
     "execution_count": 314,
     "metadata": {},
     "output_type": "execute_result"
    }
   ],
   "source": [
    "X_train = tokenizer.texts_to_sequences(X_train.values)\n",
    "X_train = keras.utils.pad_sequences(X_train, maxlen=SEQUENCE_LENGTH) # tamanho maximo da sequencia de palavras\n",
    "X_train.shape"
   ]
  },
  {
   "cell_type": "code",
   "execution_count": 315,
   "id": "7003f538-30a7-4bdf-8932-ced7d2f9b6b2",
   "metadata": {},
   "outputs": [
    {
     "data": {
      "text/plain": [
       "(1800, 650)"
      ]
     },
     "execution_count": 315,
     "metadata": {},
     "output_type": "execute_result"
    }
   ],
   "source": [
    "X_test = tokenizer.texts_to_sequences(X_test)\n",
    "X_test = keras.utils.pad_sequences(X_test, maxlen=SEQUENCE_LENGTH)\n",
    "X_test.shape"
   ]
  },
  {
   "cell_type": "code",
   "execution_count": 209,
   "id": "2a71d712-2f4f-42d8-8402-b4aef1d5620d",
   "metadata": {},
   "outputs": [
    {
     "name": "stdout",
     "output_type": "stream",
     "text": [
      "WARNING:tensorflow:Layer gru_11 will not use cuDNN kernels since it doesn't meet the criteria. It will use a generic GPU kernel as fallback when running on GPU.\n",
      "Model: \"sequential_18\"\n",
      "_________________________________________________________________\n",
      " Layer (type)                Output Shape              Param #   \n",
      "=================================================================\n",
      " embedding_18 (Embedding)    (None, 650, 100)          5000000   \n",
      "                                                                 \n",
      " masking_11 (Masking)        (None, 650, 100)          0         \n",
      "                                                                 \n",
      " spatial_dropout1d_16 (Spat  (None, 650, 100)          0         \n",
      " ialDropout1D)                                                   \n",
      "                                                                 \n",
      " gru_11 (GRU)                (None, 200)               181200    \n",
      "                                                                 \n",
      " dense_18 (Dense)            (None, 1)                 201       \n",
      "                                                                 \n",
      "=================================================================\n",
      "Total params: 5181401 (19.77 MB)\n",
      "Trainable params: 5181401 (19.77 MB)\n",
      "Non-trainable params: 0 (0.00 Byte)\n",
      "_________________________________________________________________\n"
     ]
    }
   ],
   "source": [
    "model = keras.models.Sequential([\n",
    "    keras.layers.Embedding(MAX_NB_WORDS, EMBEDDING_DIM, input_length=X_train.shape[-1]),\n",
    "    keras.layers.Masking(mask_value=0.0), # formatar comprimentado das frases\n",
    "    keras.layers.SpatialDropout1D(0.2), # reduzir overfitting\n",
    "    keras.layers.GRU(200, dropout=0.2, recurrent_dropout=0.2), # gated recurrent unit\n",
    "    keras.layers.Dense(1, activation='sigmoid')\n",
    "])\n",
    "model.compile(loss='binary_crossentropy', optimizer='adam', metrics=['accuracy'])\n",
    "\n",
    "model.summary()"
   ]
  },
  {
   "cell_type": "code",
   "execution_count": 210,
   "id": "a9be5ae4-4d87-4c7c-96e7-355b44398eff",
   "metadata": {},
   "outputs": [
    {
     "name": "stdout",
     "output_type": "stream",
     "text": [
      "Epoch 1/20\n",
      "135/135 [==============================] - 70s 510ms/step - loss: 0.4746 - accuracy: 0.7560 - val_loss: 0.1285 - val_accuracy: 0.9583\n",
      "Epoch 2/20\n",
      "135/135 [==============================] - 68s 506ms/step - loss: 0.0997 - accuracy: 0.9713 - val_loss: 0.1563 - val_accuracy: 0.9593\n",
      "Epoch 3/20\n",
      "135/135 [==============================] - 67s 500ms/step - loss: 0.0346 - accuracy: 0.9898 - val_loss: 0.2516 - val_accuracy: 0.9361\n",
      "Epoch 4/20\n",
      "135/135 [==============================] - 67s 498ms/step - loss: 0.0223 - accuracy: 0.9933 - val_loss: 0.2835 - val_accuracy: 0.9083\n",
      "Epoch 5/20\n",
      "135/135 [==============================] - 65s 482ms/step - loss: 0.0099 - accuracy: 0.9975 - val_loss: 0.1886 - val_accuracy: 0.9556\n",
      "Epoch 6/20\n",
      "135/135 [==============================] - 66s 490ms/step - loss: 0.0070 - accuracy: 0.9984 - val_loss: 0.2193 - val_accuracy: 0.9491\n",
      "Epoch 7/20\n",
      "135/135 [==============================] - 65s 480ms/step - loss: 0.0023 - accuracy: 0.9998 - val_loss: 0.2636 - val_accuracy: 0.9500\n",
      "Epoch 8/20\n",
      "135/135 [==============================] - 64s 475ms/step - loss: 0.0116 - accuracy: 0.9977 - val_loss: 0.3580 - val_accuracy: 0.9481\n",
      "Epoch 9/20\n",
      "135/135 [==============================] - 64s 472ms/step - loss: 0.0211 - accuracy: 0.9937 - val_loss: 0.2983 - val_accuracy: 0.9556\n",
      "Epoch 10/20\n",
      "135/135 [==============================] - 64s 476ms/step - loss: 0.1040 - accuracy: 0.9569 - val_loss: 0.2299 - val_accuracy: 0.9556\n",
      "Epoch 11/20\n",
      "135/135 [==============================] - 63s 468ms/step - loss: 0.0497 - accuracy: 0.9838 - val_loss: 0.2698 - val_accuracy: 0.9194\n",
      "Epoch 12/20\n",
      "135/135 [==============================] - 63s 467ms/step - loss: 0.0098 - accuracy: 0.9965 - val_loss: 0.3217 - val_accuracy: 0.8991\n"
     ]
    },
    {
     "data": {
      "text/plain": [
       "<Axes: >"
      ]
     },
     "execution_count": 210,
     "metadata": {},
     "output_type": "execute_result"
    },
    {
     "data": {
      "image/png": "[encoded data removed]",
      "text/plain": [
       "<Figure size 640x480 with 1 Axes>"
      ]
     },
     "metadata": {},
     "output_type": "display_data"
    }
   ],
   "source": [
    "history = model.fit(\n",
    "    X_train, y_train,\n",
    "    epochs=20,\n",
    "    batch_size=32,\n",
    "    validation_split=0.2,\n",
    "    callbacks=[\n",
    "        keras.callbacks.EarlyStopping(monitor=\"val_accuracy\",patience=10, restore_best_weights=True)\n",
    "    ],\n",
    ")\n",
    "\n",
    "pd.DataFrame(history.history).plot()"
   ]
  },
  {
   "cell_type": "code",
   "execution_count": 316,
   "id": "5853e7f2-1645-4217-a521-20ab8862d0ed",
   "metadata": {},
   "outputs": [
    {
     "name": "stdout",
     "output_type": "stream",
     "text": [
      "57/57 [==============================] - 6s 98ms/step\n",
      "RU: 3935883\n",
      "Accurácia: 0.9644444444444444\n",
      "Roc-auc: 0.9643477734648535\n",
      "              precision    recall  f1-score   support\n",
      "\n",
      "           0       0.96      0.97      0.97       917\n",
      "           1       0.97      0.96      0.96       883\n",
      "\n",
      "    accuracy                           0.96      1800\n",
      "   macro avg       0.96      0.96      0.96      1800\n",
      "weighted avg       0.96      0.96      0.96      1800\n",
      "\n"
     ]
    }
   ],
   "source": [
    "from sklearn.metrics import accuracy_score, roc_auc_score, classification_report\n",
    "\n",
    "probas = model.predict(X_test)\n",
    "y_pred = np.where(probas>=0.5,1,0)\n",
    "\n",
    "print(\"Accurácia:\",accuracy_score(y_test,y_pred))\n",
    "print(\"Roc-auc:\",roc_auc_score(y_test,y_pred))\n",
    "print(classification_report(y_test,y_pred))"
   ]
  }
 ],
 "metadata": {
  "kernelspec": {
   "display_name": "Python 3 (ipykernel)",
   "language": "python",
   "name": "python3"
  },
  "language_info": {
   "codemirror_mode": {
    "name": "ipython",
    "version": 3
   },
   "file_extension": ".py",
   "mimetype": "text/x-python",
   "name": "python",
   "nbconvert_exporter": "python",
   "pygments_lexer": "ipython3",
   "version": "3.8.10"
  }
 },
 "nbformat": 4,
 "nbformat_minor": 5
}
